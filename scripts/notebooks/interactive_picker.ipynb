{
 "metadata": {
  "name": "",
  "signature": "sha256:9dc909593f21d865dfdea2cdbe31fa62d31469a6e2301180e54b5a0e80395122"
 },
 "nbformat": 3,
 "nbformat_minor": 0,
 "worksheets": []
}